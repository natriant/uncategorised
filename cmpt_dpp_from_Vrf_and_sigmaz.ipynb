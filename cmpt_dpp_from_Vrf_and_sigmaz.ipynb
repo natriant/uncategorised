{
 "cells": [
  {
   "cell_type": "code",
   "execution_count": 1,
   "metadata": {},
   "outputs": [],
   "source": [
    "import numpy as np"
   ]
  },
  {
   "cell_type": "code",
   "execution_count": 2,
   "metadata": {
    "pycharm": {
     "is_executing": false
    }
   },
   "outputs": [],
   "source": [
    "def revolution_frequency(beta_0, clight, C0):\n",
    "    # returns the revolution frequency of the reference particle in Hz\n",
    "    return(beta_0*clight)/C0 "
   ]
  },
  {
   "cell_type": "code",
   "execution_count": 3,
   "metadata": {
    "pycharm": {
     "is_executing": false
    }
   },
   "outputs": [],
   "source": [
    "def slip_factor(alpha_p, gamma_0):\n",
    "    return alpha_p - 1/(gamma_0**2) "
   ]
  },
  {
   "cell_type": "code",
   "execution_count": 4,
   "metadata": {
    "pycharm": {
     "is_executing": false
    }
   },
   "outputs": [],
   "source": [
    "def calculate_Qs(V_RF, f_RF, lag, alpha_p, gamma_0, C0, PC0, clight): # Wolski p.170\n",
    "    eta = slip_factor(alpha_p, gamma_0)\n",
    "    omega_rf = 2*np.pi*f_RF\n",
    "    phase = lag*np.pi/180.\n",
    "    Qs = np.sqrt(-(V_RF*omega_rf*C0*eta*np.cos(phase))/(PC0*clight))/(2*np.pi)\n",
    "    return Qs"
   ]
  },
  {
   "cell_type": "code",
   "execution_count": 5,
   "metadata": {
    "pycharm": {
     "is_executing": false
    }
   },
   "outputs": [],
   "source": [
    "def calculate_Vrf(Qs, f_RF, lag, alpha_p, gamma_0, C0, PC0, clight): # calculate Vrf needed for given Qs\n",
    "    eta = slip_factor(alpha_p, gamma_0)\n",
    "    omega_rf = 2*np.pi*f_RF\n",
    "    phase = lag*np.pi/180.\n",
    "    V_rf = - ((2*np.pi*Qs)**2)* PC0* clight/(omega_rf*C0*eta*np.cos(phase))\n",
    "    return V_rf"
   ]
  },
  {
   "cell_type": "code",
   "execution_count": 6,
   "metadata": {
    "pycharm": {
     "is_executing": false
    }
   },
   "outputs": [],
   "source": [
    "def calculate_harmonic_number(f_RF, beta_0, clight, C0):\n",
    "    f_rev = revolution_frequency(beta_0, clight, C0)\n",
    "    h = f_RF/f_rev\n",
    "    return h"
   ]
  },
  {
   "cell_type": "code",
   "execution_count": 7,
   "metadata": {
    "pycharm": {
     "is_executing": false
    }
   },
   "outputs": [],
   "source": [
    "def bunch_length_rad_to_m(phi, clight, f_RF ):\n",
    "    L = phi*clight/(2*np.pi*f_RF) # in m\n",
    "    return L "
   ]
  },
  {
   "cell_type": "code",
   "execution_count": 8,
   "metadata": {},
   "outputs": [],
   "source": [
    "def bunch_length_m_to_rad(L, clight, f_RF ):\n",
    "    phi = L*(2*np.pi*f_RF)/clight # in rad\n",
    "    return phi"
   ]
  },
  {
   "cell_type": "code",
   "execution_count": 10,
   "metadata": {},
   "outputs": [],
   "source": [
    "def natural_bunch_length(beta0, clight, slip_factor, f_RF, sigma_delta):\n",
    "    # sigma delta: energy spread\n",
    "    sigma_z = -beta0*clight*(slip_factor/(2*np.pi*f_RF))*sigma_delta\n",
    "    return sigma_z"
   ]
  },
  {
   "cell_type": "code",
   "execution_count": 32,
   "metadata": {},
   "outputs": [],
   "source": [
    "def bunch_length_time_to_m(sigma_t, clight):\n",
    "    # Arguments:  sigma_t in seconds,clight: in m/s\n",
    "    # Return: the bunch length in seconds. the result corresponds to 1 sigma_t (usual units 4sigma_t)\n",
    "    sigma_z = sigma_t*clight\n",
    "    return sigma_z"
   ]
  },
  {
   "cell_type": "markdown",
   "metadata": {},
   "source": [
    "\\begin{equation}\n",
    "L = \\frac{\\phi C}{2 \\pi h} =  \\frac{\\phi C f_{rev}}{2 \\pi f_{RF}} =  \\frac{\\phi C c/C}{2 \\pi f_{RF}} =  \\frac{\\phi c}{2 \\pi f_{RF}} \n",
    "\\end{equation}\n",
    "\n",
    "where L and $\\phi$ the rms bunch length in m and rad respectively, C the machine circumference (m), c the speed of light (m/s), f_rev and f_RF the revolution and RF frequency respectively (Hz)."
   ]
  },
  {
   "cell_type": "code",
   "execution_count": 12,
   "metadata": {},
   "outputs": [],
   "source": [
    "def EnergySpread(Circumferance, Harmonic_Num, Energy_total, SlipF, BL, beta_rel, RF_Voltage, Energy_loss, Z):\n",
    "    # Z = 1 for protons, Voltage GV, Energy GeV, BL (bunch length) in m.\n",
    "    # Energy loss = 0 for my studies\n",
    "    '~ from Wiedermanns book ~'\n",
    "    return BL / (Circumferance * np.sqrt(abs(SlipF) * Energy_total / (2 * np.pi * beta_rel * Harmonic_Num * np.sqrt(Z**2 * RF_Voltage**2 - Energy_loss**2))))"
   ]
  },
  {
   "cell_type": "markdown",
   "metadata": {},
   "source": [
    "#### Constants"
   ]
  },
  {
   "cell_type": "code",
   "execution_count": 13,
   "metadata": {},
   "outputs": [],
   "source": [
    "m0 = 0.9382720813e9 # proton rest mass, [eV/c^2] \n",
    "clight = 299792458 # speed of light [m/s]"
   ]
  },
  {
   "cell_type": "code",
   "execution_count": 16,
   "metadata": {},
   "outputs": [],
   "source": [
    "#### Parameters from MAD-X for SPS"
   ]
  },
  {
   "cell_type": "code",
   "execution_count": 17,
   "metadata": {},
   "outputs": [
    {
     "name": "stdout",
     "output_type": "stream",
     "text": [
      "0.0019236688211757462\n"
     ]
    }
   ],
   "source": [
    "C0 = 6911.5038 # SPS circumference [m]  \n",
    "#gamma_t = 18 # for Q20 property of the optics\n",
    "gamma_t = 22.8 # for Q26 property of the optics\n",
    "alpha_p = 1/gamma_t**2 # property of the optics\n",
    "print(alpha_p)\n",
    "harmonic_number = "
   ]
  },
  {
   "cell_type": "code",
   "execution_count": 70,
   "metadata": {
    "pycharm": {
     "is_executing": false
    }
   },
   "outputs": [],
   "source": [
    "E_0 = 200e9 # eV\n",
    "E_rest = m0 # [eV]\n",
    "Vrf, frf = 3.79e6, 200e6 # V\n",
    "tau = 2.2e-9 # s"
   ]
  },
  {
   "cell_type": "code",
   "execution_count": 71,
   "metadata": {},
   "outputs": [
    {
     "name": "stdout",
     "output_type": "stream",
     "text": [
      "213.15778651635344 0.9999889955082187\n"
     ]
    }
   ],
   "source": [
    "gamma_0 =  E_0/E_rest # gamma realtivistic of the reference particle  \n",
    "beta_0 = np.sqrt(1-1/gamma_0**2) # beta realtivistic of the reference particle\n",
    "print(gamma_0, beta_0)"
   ]
  },
  {
   "cell_type": "code",
   "execution_count": 77,
   "metadata": {
    "pycharm": {
     "is_executing": false
    }
   },
   "outputs": [
    {
     "name": "stdout",
     "output_type": "stream",
     "text": [
      "4610.909763729778\n"
     ]
    }
   ],
   "source": [
    "h1 = calculate_harmonic_number(frf, beta_0, clight, C0)\n",
    "print(h1)\n"
   ]
  },
  {
   "cell_type": "code",
   "execution_count": 78,
   "metadata": {},
   "outputs": [
    {
     "name": "stdout",
     "output_type": "stream",
     "text": [
      "0.0019016599587120704\n"
     ]
    }
   ],
   "source": [
    "my_slip_factor = slip_factor(alpha_p, gamma_0)\n",
    "print(my_slip_factor)"
   ]
  },
  {
   "cell_type": "code",
   "execution_count": 86,
   "metadata": {},
   "outputs": [
    {
     "name": "stdout",
     "output_type": "stream",
     "text": [
      "0.1648858519\n"
     ]
    }
   ],
   "source": [
    "sigma_z = bunch_length_time_to_m(tau/4, clight)\n",
    "print(sigma_z)"
   ]
  },
  {
   "cell_type": "code",
   "execution_count": 93,
   "metadata": {},
   "outputs": [],
   "source": [
    "dpp = EnergySpread(C0, h1, E0, my_slip_factor, sigma_z, beta_0, Vrf/1e3, Energy_loss=0, Z=1)"
   ]
  },
  {
   "cell_type": "code",
   "execution_count": 91,
   "metadata": {},
   "outputs": [
    {
     "data": {
      "text/plain": [
       "0.012818565649392974"
      ]
     },
     "execution_count": 91,
     "metadata": {},
     "output_type": "execute_result"
    }
   ],
   "source": [
    "dpp/beta_0**2"
   ]
  },
  {
   "cell_type": "code",
   "execution_count": 92,
   "metadata": {},
   "outputs": [
    {
     "data": {
      "text/plain": [
       "0.012818283527344614"
      ]
     },
     "execution_count": 92,
     "metadata": {},
     "output_type": "execute_result"
    }
   ],
   "source": [
    "dpp"
   ]
  },
  {
   "cell_type": "code",
   "execution_count": null,
   "metadata": {},
   "outputs": [],
   "source": []
  }
 ],
 "metadata": {
  "kernelspec": {
   "display_name": "Python 3",
   "language": "python",
   "name": "python3"
  },
  "language_info": {
   "codemirror_mode": {
    "name": "ipython",
    "version": 3
   },
   "file_extension": ".py",
   "mimetype": "text/x-python",
   "name": "python",
   "nbconvert_exporter": "python",
   "pygments_lexer": "ipython3",
   "version": "3.7.3"
  }
 },
 "nbformat": 4,
 "nbformat_minor": 4
}
