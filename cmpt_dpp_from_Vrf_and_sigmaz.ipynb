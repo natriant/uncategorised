{
 "cells": [
  {
   "cell_type": "code",
   "execution_count": 1,
   "metadata": {},
   "outputs": [],
   "source": [
    "import numpy as np"
   ]
  },
  {
   "cell_type": "code",
   "execution_count": 2,
   "metadata": {
    "pycharm": {
     "is_executing": false
    }
   },
   "outputs": [],
   "source": [
    "def revolution_frequency(beta_0, clight, C0):\n",
    "    # returns the revolution frequency of the reference particle in Hz\n",
    "    return(beta_0*clight)/C0 "
   ]
  },
  {
   "cell_type": "code",
   "execution_count": 3,
   "metadata": {
    "pycharm": {
     "is_executing": false
    }
   },
   "outputs": [],
   "source": [
    "def slip_factor(alpha_p, gamma_0):\n",
    "    return alpha_p - 1/(gamma_0**2) "
   ]
  },
  {
   "cell_type": "code",
   "execution_count": 4,
   "metadata": {
    "pycharm": {
     "is_executing": false
    }
   },
   "outputs": [],
   "source": [
    "def calculate_harmonic_number(f_RF, beta_0, clight, C0):\n",
    "    f_rev = revolution_frequency(beta_0, clight, C0)\n",
    "    h = f_RF/f_rev\n",
    "    return h"
   ]
  },
  {
   "cell_type": "code",
   "execution_count": 8,
   "metadata": {},
   "outputs": [],
   "source": [
    "def bunch_length_time_to_m(sigma_t, clight):\n",
    "    # Arguments:  sigma_t in seconds,clight: in m/s\n",
    "    # Return: the bunch length in seconds. the result corresponds to 1 sigma_t (usual units 4sigma_t)\n",
    "    sigma_z = sigma_t*clight\n",
    "    return sigma_z"
   ]
  },
  {
   "cell_type": "markdown",
   "metadata": {},
   "source": [
    "\\begin{equation}\n",
    "L = \\frac{\\phi C}{2 \\pi h} =  \\frac{\\phi C f_{rev}}{2 \\pi f_{RF}} =  \\frac{\\phi C c/C}{2 \\pi f_{RF}} =  \\frac{\\phi c}{2 \\pi f_{RF}} \n",
    "\\end{equation}\n",
    "\n",
    "where L and $\\phi$ the rms bunch length in m and rad respectively, C the machine circumference (m), c the speed of light (m/s), f_rev and f_RF the revolution and RF frequency respectively (Hz)."
   ]
  },
  {
   "cell_type": "code",
   "execution_count": 9,
   "metadata": {},
   "outputs": [],
   "source": [
    "def EnegySpread(nc, Vrf, sigma_z, h, beta_rel, C0, Eb, eta_p):\n",
    "    # Vrf in GeV, sigma_z in m, C0 in m, Eb in GeV\n",
    "    # In general Vrf and Eb should be at the same units\n",
    "    dpp=np.sqrt(2/np.pi)*np.sqrt(nc*Vrf*(np.sin(sigma_z*h*np.pi*beta_rel/C0))**2)/np.sqrt(Eb*h*abs(eta_p))/beta_rel\n",
    "    # Michalis: '~ from Wiedermanns book ~'\n",
    "    # Fanouria's IBS scripts: /eos/user/c/crabtest/SPS_CC_test_2017/IBS_scripts/SPS-ibs-coast-1case.madx\n",
    "    return dpp"
   ]
  },
  {
   "cell_type": "markdown",
   "metadata": {},
   "source": [
    "#### Constants"
   ]
  },
  {
   "cell_type": "code",
   "execution_count": 10,
   "metadata": {},
   "outputs": [
    {
     "name": "stdout",
     "output_type": "stream",
     "text": [
      "0.0019236688211757462\n"
     ]
    }
   ],
   "source": [
    "clight = 299792458 # speed of light [m/s]\n",
    "nc = 1 # Charge number. For the protons this is 1.\n",
    "mp=938.2723*1e-3; # [GeV/c^2]\n",
    "C0 = 6911.5038 # SPS circumference [m]  \n",
    "gamma_t = 22.8 # for Q26 property of the optics\n",
    "alpha_p = 1/gamma_t**2 # property of the optics\n",
    "print(alpha_p)"
   ]
  },
  {
   "cell_type": "code",
   "execution_count": 11,
   "metadata": {},
   "outputs": [],
   "source": [
    "E_0 = 200# GeV\n",
    "E_rest = mp # [GeV]\n",
    "frf = 200.266e6 # V, Hz"
   ]
  },
  {
   "cell_type": "code",
   "execution_count": 12,
   "metadata": {},
   "outputs": [
    {
     "name": "stdout",
     "output_type": "stream",
     "text": [
      "213.15773683183443 0.9999889955030887\n"
     ]
    }
   ],
   "source": [
    "gamma_0 =  E_0/E_rest # gamma realtivistic of the reference particle  \n",
    "beta_0 = np.sqrt(1-1/gamma_0**2) # beta realtivistic of the reference particle\n",
    "print(gamma_0, beta_0)"
   ]
  },
  {
   "cell_type": "code",
   "execution_count": 13,
   "metadata": {},
   "outputs": [
    {
     "name": "stdout",
     "output_type": "stream",
     "text": [
      "4617.0422737392255\n"
     ]
    }
   ],
   "source": [
    "harmonic_number = calculate_harmonic_number(frf, beta_0, clight, C0)\n",
    "print(harmonic_number)"
   ]
  },
  {
   "cell_type": "code",
   "execution_count": 14,
   "metadata": {},
   "outputs": [
    {
     "name": "stdout",
     "output_type": "stream",
     "text": [
      "0.001901659948452064\n"
     ]
    }
   ],
   "source": [
    "my_slip_factor = slip_factor(alpha_p, gamma_0)\n",
    "print(my_slip_factor)"
   ]
  },
  {
   "cell_type": "code",
   "execution_count": 24,
   "metadata": {},
   "outputs": [
    {
     "name": "stdout",
     "output_type": "stream",
     "text": [
      "0.1648858519\n"
     ]
    }
   ],
   "source": [
    "Vrf = 5e6/1e9 # 3.79e6/1e9 # GV\n",
    "tau = 2.2e-9 # s\n",
    "sigma_z = bunch_length_time_to_m(tau/4, clight)\n",
    "print(sigma_z)"
   ]
  },
  {
   "cell_type": "code",
   "execution_count": 22,
   "metadata": {},
   "outputs": [],
   "source": [
    "dpp = EnegySpread(nc, Vrf, sigma_z, harmonic_number, beta_0, C0, E_0, my_slip_factor)"
   ]
  },
  {
   "cell_type": "code",
   "execution_count": 23,
   "metadata": {},
   "outputs": [
    {
     "data": {
      "text/plain": [
       "0.0004165881766203213"
      ]
     },
     "execution_count": 23,
     "metadata": {},
     "output_type": "execute_result"
    }
   ],
   "source": [
    "dpp"
   ]
  },
  {
   "cell_type": "code",
   "execution_count": null,
   "metadata": {},
   "outputs": [],
   "source": []
  },
  {
   "cell_type": "code",
   "execution_count": null,
   "metadata": {},
   "outputs": [],
   "source": []
  }
 ],
 "metadata": {
  "kernelspec": {
   "display_name": "Python 3 (ipykernel)",
   "language": "python",
   "name": "python3"
  },
  "language_info": {
   "codemirror_mode": {
    "name": "ipython",
    "version": 3
   },
   "file_extension": ".py",
   "mimetype": "text/x-python",
   "name": "python",
   "nbconvert_exporter": "python",
   "pygments_lexer": "ipython3",
   "version": "3.7.11"
  }
 },
 "nbformat": 4,
 "nbformat_minor": 4
}
